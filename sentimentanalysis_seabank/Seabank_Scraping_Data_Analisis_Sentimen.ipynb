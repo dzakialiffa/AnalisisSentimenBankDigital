{
  "nbformat": 4,
  "nbformat_minor": 0,
  "metadata": {
    "colab": {
      "provenance": []
    },
    "kernelspec": {
      "name": "python3",
      "display_name": "Python 3"
    },
    "language_info": {
      "name": "python"
    }
  },
  "cells": [
    {
      "cell_type": "code",
      "execution_count": 1,
      "metadata": {
        "colab": {
          "base_uri": "https://localhost:8080/"
        },
        "id": "MvWYu_lPmo76",
        "outputId": "7ab2b3bf-b82c-482b-a7a0-ba45d0d74364"
      },
      "outputs": [
        {
          "output_type": "stream",
          "name": "stdout",
          "text": [
            "Collecting google_play_scraper\n",
            "  Downloading google_play_scraper-1.2.7-py3-none-any.whl.metadata (50 kB)\n",
            "\u001b[?25l     \u001b[90m━━━━━━━━━━━━━━━━━━━━━━━━━━━━━━━━━━━━━━━━\u001b[0m \u001b[32m0.0/50.2 kB\u001b[0m \u001b[31m?\u001b[0m eta \u001b[36m-:--:--\u001b[0m\r\u001b[2K     \u001b[90m━━━━━━━━━━━━━━━━━━━━━━━━━━━━━━━━━━━━━━━━\u001b[0m \u001b[32m50.2/50.2 kB\u001b[0m \u001b[31m2.6 MB/s\u001b[0m eta \u001b[36m0:00:00\u001b[0m\n",
            "\u001b[?25hDownloading google_play_scraper-1.2.7-py3-none-any.whl (28 kB)\n",
            "Installing collected packages: google_play_scraper\n",
            "Successfully installed google_play_scraper-1.2.7\n"
          ]
        }
      ],
      "source": [
        "!pip install google_play_scraper"
      ]
    },
    {
      "cell_type": "code",
      "source": [
        "\n",
        "# Install library terlebih dahulu: pip install google-play-scraper\n",
        "from google_play_scraper import reviews, Sort\n",
        "import pandas as pd\n",
        "from tqdm import tqdm\n",
        "from time import sleep"
      ],
      "metadata": {
        "id": "cXGpch1Bnhhf"
      },
      "execution_count": 2,
      "outputs": []
    },
    {
      "cell_type": "code",
      "source": [
        "# Scraping Ulasan Aplikasi GetContact\n",
        "app_id = 'id.co.bankbkemobile.digitalbank'\n",
        "reviews_count = 5000\n",
        "result = []\n",
        "continuation_token = None"
      ],
      "metadata": {
        "id": "r0HueZ5enjJv"
      },
      "execution_count": 3,
      "outputs": []
    },
    {
      "cell_type": "code",
      "source": [
        "with tqdm(total=reviews_count, position=0, leave=True) as pbar:\n",
        "    while len(result) < reviews_count:\n",
        "        new_result, continuation_token = reviews(\n",
        "            app_id,\n",
        "            continuation_token=continuation_token,\n",
        "            lang='id',\n",
        "            country='id',\n",
        "            sort=Sort.NEWEST,\n",
        "            filter_score_with=None,\n",
        "            count=199\n",
        "        )\n",
        "\n",
        "        if not new_result:\n",
        "            break\n",
        "\n",
        "        result.extend(new_result)\n",
        "        pbar.update(len(new_result))\n",
        "        sleep(0.1)  # Adding a small delay to avoid overloading the server"
      ],
      "metadata": {
        "colab": {
          "base_uri": "https://localhost:8080/"
        },
        "id": "7AfAI4IJnnzb",
        "outputId": "a43d6cbb-b3e0-45e3-c43c-032d067341d6"
      },
      "execution_count": 4,
      "outputs": [
        {
          "output_type": "stream",
          "name": "stderr",
          "text": [
            "5174it [00:07, 657.07it/s]\n"
          ]
        }
      ]
    },
    {
      "cell_type": "code",
      "source": [
        "df = pd.DataFrame(result)\n",
        "df.to_csv('seabank.csv', index=False)\n",
        "\n",
        "print(f\"Total reviews collected: {len(df)}\")\n",
        "print(\"Data saved to 'seabank_reviews.csv'.\")"
      ],
      "metadata": {
        "colab": {
          "base_uri": "https://localhost:8080/"
        },
        "id": "koiB09deo29D",
        "outputId": "dd9cd75f-e795-486f-f669-c78504843582"
      },
      "execution_count": 5,
      "outputs": [
        {
          "output_type": "stream",
          "name": "stdout",
          "text": [
            "Total reviews collected: 5174\n",
            "Data saved to 'seabank_reviews.csv'.\n"
          ]
        }
      ]
    }
  ]
}